{
  "nbformat": 4,
  "nbformat_minor": 0,
  "metadata": {
    "colab": {
      "provenance": [],
      "gpuType": "T4",
      "include_colab_link": true
    },
    "kernelspec": {
      "name": "python3",
      "display_name": "Python 3"
    },
    "language_info": {
      "name": "python"
    },
    "accelerator": "GPU"
  },
  "cells": [
    {
      "cell_type": "markdown",
      "metadata": {
        "id": "view-in-github",
        "colab_type": "text"
      },
      "source": [
        "<a href=\"https://colab.research.google.com/github/ayoni02/zummit-F-group2/blob/main/R%26D_group_2.ipynb\" target=\"_parent\"><img src=\"https://colab.research.google.com/assets/colab-badge.svg\" alt=\"Open In Colab\"/></a>"
      ]
    },
    {
      "cell_type": "code",
      "execution_count": 88,
      "metadata": {
        "id": "B92pP6Ssn2Fw"
      },
      "outputs": [],
      "source": [
        "import pandas as pd\n",
        "from transformers import pipeline\n",
        "from sklearn.metrics import classification_report, confusion_matrix\n",
        "import matplotlib.pyplot as plt\n",
        "import seaborn as sns"
      ]
    },
    {
      "cell_type": "code",
      "source": [
        "df=pd.read_csv('toxic_dataset.csv')"
      ],
      "metadata": {
        "id": "OPsta0Exp-6X"
      },
      "execution_count": 89,
      "outputs": []
    },
    {
      "cell_type": "code",
      "source": [
        "#the basics\n",
        "\"\"\"pipeline('zero-shot-classification', model=model)\n",
        "labels = [\"TOXIC\", \"AGGRESSIVE\", \"HATE SPEECH\", \"INSULTIVE\", \"SPAM\", \"NSFW\", \"SEXUAL HARASSMENT\", \"NEUTRAL\"]\"\"\""
      ],
      "metadata": {
        "id": "BENl7S97oJI2",
        "colab": {
          "base_uri": "https://localhost:8080/",
          "height": 53
        },
        "outputId": "66bb68f2-22dc-458d-ac8a-69f646275ced"
      },
      "execution_count": 90,
      "outputs": [
        {
          "output_type": "execute_result",
          "data": {
            "text/plain": [
              "'pipeline(\\'zero-shot-classification\\', model=model)\\nlabels = [\"TOXIC\", \"AGGRESSIVE\", \"HATE SPEECH\", \"INSULTIVE\", \"SPAM\", \"NSFW\", \"SEXUAL HARASSMENT\", \"NEUTRAL\"]'"
            ],
            "application/vnd.google.colaboratory.intrinsic+json": {
              "type": "string"
            }
          },
          "metadata": {},
          "execution_count": 90
        }
      ]
    },
    {
      "cell_type": "code",
      "source": [
        "#['AlbertForSequenceClassification', 'BartForSequenceClassification', 'BertForSequenceClassification', 'BigBirdForSequenceClassification', 'BigBirdPegasusForSequenceClassification', 'BioGptForSequenceClassification', 'BloomForSequenceClassification', 'CamembertForSequenceClassification', 'CanineForSequenceClassification', 'LlamaForSequenceClassification', 'ConvBertForSequenceClassification', 'CTRLForSequenceClassification', 'Data2VecTextForSequenceClassification', 'DebertaForSequenceClassification', 'DebertaV2ForSequenceClassification', 'DistilBertForSequenceClassification', 'ElectraForSequenceClassification', 'ErnieForSequenceClassification', 'ErnieMForSequenceClassification', 'EsmForSequenceClassification', 'FalconForSequenceClassification', 'FlaubertForSequenceClassification', 'FNetForSequenceClassification', 'FunnelForSequenceClassification', 'GPT2ForSequenceClassification', 'GPT2ForSequenceClassification', 'GPTBigCodeForSequenceClassification', 'GPTNeoForSequenceClassification', 'GPTNeoXForSequenceClassification', 'GPTJForSequenceClassification', 'IBertForSequenceClassification', 'LayoutLMForSequenceClassification', 'LayoutLMv2ForSequenceClassification', 'LayoutLMv3ForSequenceClassification', 'LEDForSequenceClassification', 'LiltForSequenceClassification', 'LlamaForSequenceClassification', 'LongformerForSequenceClassification', 'LukeForSequenceClassification', 'MarkupLMForSequenceClassification', 'MBartForSequenceClassification', 'MegaForSequenceClassification', 'MegatronBertForSequenceClassification', 'MistralForSequenceClassification', 'MobileBertForSequenceClassification', 'MPNetForSequenceClassification', 'MptForSequenceClassification', 'MraForSequenceClassification', 'MT5ForSequenceClassification', 'MvpForSequenceClassification', 'NezhaForSequenceClassification', 'NystromformerForSequenceClassification', 'OpenLlamaForSequenceClassification', 'OpenAIGPTForSequenceClassification', 'OPTForSequenceClassification', 'PerceiverForSequenceClassification', 'PersimmonForSequenceClassification', 'PLBartForSequenceClassification', 'QDQBertForSequenceClassification', 'ReformerForSequenceClassification', 'RemBertForSequenceClassification', 'RobertaForSequenceClassification', 'RobertaPreLayerNormForSequenceClassification', 'RoCBertForSequenceClassification', 'RoFormerForSequenceClassification', 'SqueezeBertForSequenceClassification', 'T5ForSequenceClassification', 'TapasForSequenceClassification', 'TransfoXLForSequenceClassification', 'UMT5ForSequenceClassification', 'XLMForSequenceClassification', 'XLMRobertaForSequenceClassification', 'XLMRobertaXLForSequenceClassification', 'XLNetForSequenceClassification', 'XmodForSequenceClassification', 'YosoForSequenceClassification']"
      ],
      "metadata": {
        "id": "T4wdkNuLolY0"
      },
      "execution_count": 91,
      "outputs": []
    },
    {
      "cell_type": "code",
      "source": [
        "#const labels\n",
        "labels = [\"TOXIC\", \"AGGRESSIVE\", \"HATE SPEECH\", \"INSULTIVE\", \"SPAM\", \"NSFW\", \"SEXUAL HARASSMENT\", \"NEUTRAL\", \"POSITIVE\"]"
      ],
      "metadata": {
        "id": "Jgzd_N6sql24"
      },
      "execution_count": 92,
      "outputs": []
    },
    {
      "cell_type": "markdown",
      "source": [
        "# test with facebook bart"
      ],
      "metadata": {
        "id": "ApEQNJmUqZjY"
      }
    },
    {
      "cell_type": "code",
      "source": [
        "fbbert = pipeline('zero-shot-classification', model='facebook/bart-large-mnli', device=0)"
      ],
      "metadata": {
        "id": "pMo_lc_Xpn_r"
      },
      "execution_count": 93,
      "outputs": []
    },
    {
      "cell_type": "code",
      "source": [
        "from tqdm import tqdm\n",
        "sentiment = []\n",
        "for i in tqdm(df.text, total=len(df)):\n",
        "    sentiment.append(fbbert(i, labels)[\"labels\"][0])"
      ],
      "metadata": {
        "colab": {
          "base_uri": "https://localhost:8080/"
        },
        "id": "aacZtRjLpje6",
        "outputId": "be506a0e-9eee-4a32-c254-633482ad816e"
      },
      "execution_count": 94,
      "outputs": [
        {
          "output_type": "stream",
          "name": "stderr",
          "text": [
            " 10%|█         | 10/100 [00:06<01:04,  1.40it/s]/usr/local/lib/python3.10/dist-packages/transformers/pipelines/base.py:1123: UserWarning: You seem to be using the pipelines sequentially on GPU. In order to maximize efficiency please use a dataset\n",
            "  warnings.warn(\n",
            "100%|██████████| 100/100 [01:41<00:00,  1.01s/it]\n"
          ]
        }
      ]
    },
    {
      "cell_type": "code",
      "source": [
        "fbber_df = df[['Toxicity', 'text']]\n",
        "fbber_df['label'] = [0 if ((x==\"NEUTRAL\") or (x==\"POSITIVE\")) else 1 for x in sentiment]"
      ],
      "metadata": {
        "id": "7MtHRrS-qq10"
      },
      "execution_count": 97,
      "outputs": []
    },
    {
      "cell_type": "code",
      "source": [
        "print(classification_report(fbber_df.Toxicity, fbber_df.label))"
      ],
      "metadata": {
        "colab": {
          "base_uri": "https://localhost:8080/"
        },
        "id": "olBoEmkArYdL",
        "outputId": "bfb1c583-eae4-4ec8-a032-e66026cbcaaf"
      },
      "execution_count": 98,
      "outputs": [
        {
          "output_type": "stream",
          "name": "stdout",
          "text": [
            "              precision    recall  f1-score   support\n",
            "\n",
            "           0       0.76      0.26      0.39        50\n",
            "           1       0.55      0.92      0.69        50\n",
            "\n",
            "    accuracy                           0.59       100\n",
            "   macro avg       0.66      0.59      0.54       100\n",
            "weighted avg       0.66      0.59      0.54       100\n",
            "\n"
          ]
        }
      ]
    },
    {
      "cell_type": "code",
      "source": [
        "print(confusion_matrix(fbber_df.Toxicity, fbber_df.label))"
      ],
      "metadata": {
        "colab": {
          "base_uri": "https://localhost:8080/"
        },
        "id": "zoCgo8qEk-D5",
        "outputId": "330a959f-f5c8-4dc1-96c6-d59f141b1412"
      },
      "execution_count": 99,
      "outputs": [
        {
          "output_type": "stream",
          "name": "stdout",
          "text": [
            "[[13 37]\n",
            " [ 4 46]]\n"
          ]
        }
      ]
    },
    {
      "cell_type": "code",
      "source": [],
      "metadata": {
        "id": "8Z5-E6OIvpRf"
      },
      "execution_count": 99,
      "outputs": []
    },
    {
      "cell_type": "code",
      "source": [
        "cm1 = confusion_matrix(fbber_df.Toxicity, fbber_df.label)\n",
        "cm1\n",
        "# after creating the confusion matrix, for better understaning plot the cm.\n",
        "plt.figure(figsize = (5, 4))\n",
        "# were 'cmap' is used to set the accent colour\n",
        "sns.heatmap(cm1, annot=True, cmap= 'crest',  fmt='d', cbar=True)\n",
        "plt.xlabel('Predicted_Label')\n",
        "plt.ylabel('Truth_Label')\n",
        "plt.title('Confusion Matrix - FACEBOOK BERT')"
      ],
      "metadata": {
        "colab": {
          "base_uri": "https://localhost:8080/",
          "height": 428
        },
        "id": "ODUgPTF3rlxQ",
        "outputId": "1c0cac88-8157-45bc-92e4-2411442bd32e"
      },
      "execution_count": 100,
      "outputs": [
        {
          "output_type": "execute_result",
          "data": {
            "text/plain": [
              "Text(0.5, 1.0, 'Confusion Matrix - Decision Tree')"
            ]
          },
          "metadata": {},
          "execution_count": 100
        },
        {
          "output_type": "display_data",
          "data": {
            "text/plain": [
              "<Figure size 500x400 with 2 Axes>"
            ],
            "image/png": "[encoded data removed]"
          },
          "metadata": {}
        }
      ]
    },
    {
      "cell_type": "code",
      "source": [
        "t5 = pipeline('zero-shot-classification', model='google-t5/t5-base', tokenizer='google-t5/t5-base', device=0)"
      ],
      "metadata": {
        "colab": {
          "base_uri": "https://localhost:8080/"
        },
        "id": "LFXQyqLNVCdx",
        "outputId": "763160ae-3229-4946-f5ce-2d07408bd0b3"
      },
      "execution_count": 101,
      "outputs": [
        {
          "output_type": "stream",
          "name": "stderr",
          "text": [
            "Some weights of T5ForSequenceClassification were not initialized from the model checkpoint at google-t5/t5-base and are newly initialized: ['classification_head.dense.bias', 'classification_head.dense.weight', 'classification_head.out_proj.bias', 'classification_head.out_proj.weight']\n",
            "You should probably TRAIN this model on a down-stream task to be able to use it for predictions and inference.\n",
            "Failed to determine 'entailment' label id from the label2id mapping in the model config. Setting to -1. Define a descriptive label2id mapping in the model config to ensure correct outputs.\n"
          ]
        }
      ]
    },
    {
      "cell_type": "code",
      "source": [
        "sentiment = []\n",
        "for i in tqdm(df.text, total=len(df)):\n",
        "    sentiment.append(t5(i, labels)[\"labels\"][0])"
      ],
      "metadata": {
        "colab": {
          "base_uri": "https://localhost:8080/"
        },
        "id": "BP89Oz12VM3a",
        "outputId": "37cc382b-9f7b-4d64-ca1e-1179212a2b6f"
      },
      "execution_count": 102,
      "outputs": [
        {
          "output_type": "stream",
          "name": "stderr",
          "text": [
            "100%|██████████| 100/100 [01:42<00:00,  1.03s/it]\n"
          ]
        }
      ]
    },
    {
      "cell_type": "code",
      "source": [
        "t5_df = df[['Toxicity', 'text']]\n",
        "t5_df['label'] = [0 if ((x==\"NEUTRAL\") or (x==\"POSITIVE\")) else 1 for x in sentiment]"
      ],
      "metadata": {
        "id": "yWg2Rw89Xyhc"
      },
      "execution_count": 103,
      "outputs": []
    },
    {
      "cell_type": "code",
      "source": [
        "print(classification_report(t5_df.Toxicity, t5_df.label))"
      ],
      "metadata": {
        "colab": {
          "base_uri": "https://localhost:8080/"
        },
        "id": "dV_6CznhYZaC",
        "outputId": "255c604e-aa5c-412a-90f5-ed02475b59ec"
      },
      "execution_count": 109,
      "outputs": [
        {
          "output_type": "stream",
          "name": "stdout",
          "text": [
            "              precision    recall  f1-score   support\n",
            "\n",
            "           0       0.40      0.04      0.07        50\n",
            "           1       0.49      0.94      0.65        50\n",
            "\n",
            "    accuracy                           0.49       100\n",
            "   macro avg       0.45      0.49      0.36       100\n",
            "weighted avg       0.45      0.49      0.36       100\n",
            "\n"
          ]
        }
      ]
    },
    {
      "cell_type": "code",
      "source": [
        "print(confusion_matrix(t5_df.Toxicity, t5_df.label))"
      ],
      "metadata": {
        "colab": {
          "base_uri": "https://localhost:8080/"
        },
        "id": "s03-XisOlt88",
        "outputId": "b0669c03-52ee-45ee-fe1e-8855a376b8ee"
      },
      "execution_count": 110,
      "outputs": [
        {
          "output_type": "stream",
          "name": "stdout",
          "text": [
            "[[ 2 48]\n",
            " [ 3 47]]\n"
          ]
        }
      ]
    },
    {
      "cell_type": "code",
      "source": [
        "cm2 = confusion_matrix(t5_df.Toxicity, t5_df.label)\n",
        "cm2\n",
        "# after creating the confusion matrix, for better understaning plot the cm.\n",
        "import seaborn as sn\n",
        "plt.figure(figsize = (5, 4))\n",
        "# were 'cmap' is used to set the accent colour\n",
        "sns.heatmap(cm2, annot=True, cmap= 'rocket',  fmt='d', cbar=True)\n",
        "plt.xlabel('Predicted_Label')\n",
        "plt.ylabel('Truth_Label')\n",
        "plt.title('Confusion Matrix - T5 BASE')"
      ],
      "metadata": {
        "colab": {
          "base_uri": "https://localhost:8080/",
          "height": 428
        },
        "id": "C7kywG4pYes1",
        "outputId": "5b7ac4d9-0120-4f62-908d-faa8a373abad"
      },
      "execution_count": 111,
      "outputs": [
        {
          "output_type": "execute_result",
          "data": {
            "text/plain": [
              "Text(0.5, 1.0, 'Confusion Matrix - Decision Tree')"
            ]
          },
          "metadata": {},
          "execution_count": 111
        },
        {
          "output_type": "display_data",
          "data": {
            "text/plain": [
              "<Figure size 500x400 with 2 Axes>"
            ],
            "image/png": "[encoded data removed]"
          },
          "metadata": {}
        }
      ]
    },
    {
      "cell_type": "code",
      "source": [
        "neogpt = pipeline('zero-shot-classification', model='EleutherAI/gpt-neo-1.3B', device=0)"
      ],
      "metadata": {
        "colab": {
          "base_uri": "https://localhost:8080/"
        },
        "id": "fx5xVHnSZRK7",
        "outputId": "3f59a048-7781-4382-9c9a-06e347bc09b2"
      },
      "execution_count": 112,
      "outputs": [
        {
          "output_type": "stream",
          "name": "stderr",
          "text": [
            "Some weights of GPTNeoForSequenceClassification were not initialized from the model checkpoint at EleutherAI/gpt-neo-1.3B and are newly initialized: ['score.weight']\n",
            "You should probably TRAIN this model on a down-stream task to be able to use it for predictions and inference.\n",
            "Failed to determine 'entailment' label id from the label2id mapping in the model config. Setting to -1. Define a descriptive label2id mapping in the model config to ensure correct outputs.\n"
          ]
        }
      ]
    },
    {
      "cell_type": "code",
      "source": [
        "sentiment = []\n",
        "for i in tqdm(df.text, total=len(df)):\n",
        "    sentiment.append(neogpt(i, labels)[\"labels\"][0])"
      ],
      "metadata": {
        "colab": {
          "base_uri": "https://localhost:8080/"
        },
        "id": "o2zmCbenZTeD",
        "outputId": "1d1f0995-bd33-47cc-b736-0af111e98b3b"
      },
      "execution_count": 113,
      "outputs": [
        {
          "output_type": "stream",
          "name": "stderr",
          "text": [
            "100%|██████████| 100/100 [04:55<00:00,  2.95s/it]\n"
          ]
        }
      ]
    },
    {
      "cell_type": "code",
      "source": [
        "neogpt_df = df[['Toxicity', 'text']]\n",
        "neogpt_df['label'] = [0 if ((x==\"NEUTRAL\") or (x==\"POSITIVE\")) else 1 for x in sentiment]"
      ],
      "metadata": {
        "id": "VQ7G7jMKcV-s"
      },
      "execution_count": 114,
      "outputs": []
    },
    {
      "cell_type": "code",
      "source": [
        "print(classification_report(neogpt_df.Toxicity, neogpt_df.label))"
      ],
      "metadata": {
        "colab": {
          "base_uri": "https://localhost:8080/"
        },
        "id": "saqnWF2RcVru",
        "outputId": "1ddd7fdb-23b6-4438-f30d-483cc3c4b972"
      },
      "execution_count": 115,
      "outputs": [
        {
          "output_type": "stream",
          "name": "stdout",
          "text": [
            "              precision    recall  f1-score   support\n",
            "\n",
            "           0       1.00      0.02      0.04        50\n",
            "           1       0.51      1.00      0.67        50\n",
            "\n",
            "    accuracy                           0.51       100\n",
            "   macro avg       0.75      0.51      0.36       100\n",
            "weighted avg       0.75      0.51      0.36       100\n",
            "\n"
          ]
        }
      ]
    },
    {
      "cell_type": "code",
      "source": [
        "print(confusion_matrix(neogpt_df.Toxicity, neogpt_df.label))"
      ],
      "metadata": {
        "colab": {
          "base_uri": "https://localhost:8080/"
        },
        "id": "hQDXEBBvdxeE",
        "outputId": "6dc8b31e-1103-4593-f6ad-cd12612fa0ce"
      },
      "execution_count": 116,
      "outputs": [
        {
          "output_type": "stream",
          "name": "stdout",
          "text": [
            "[[ 1 49]\n",
            " [ 0 50]]\n"
          ]
        }
      ]
    },
    {
      "cell_type": "code",
      "source": [
        "cm3 = confusion_matrix(neogpt_df.Toxicity, neogpt_df.label)\n",
        "cm3\n",
        "# after creating the confusion matrix, for better understaning plot the cm.\n",
        "import seaborn as sn\n",
        "plt.figure(figsize = (5, 4))\n",
        "# were 'cmap' is used to set the accent colour\n",
        "sns.heatmap(cm3, annot=True, cmap= 'flare',  fmt='d', cbar=True)\n",
        "plt.xlabel('Predicted_Label')\n",
        "plt.ylabel('Truth_Label')\n",
        "plt.title('Confusion Matrix - GPT NEO')"
      ],
      "metadata": {
        "colab": {
          "base_uri": "https://localhost:8080/",
          "height": 428
        },
        "id": "_RVH5BY1tEGc",
        "outputId": "52de022f-90f2-49fd-e9c7-73fd87ef613f"
      },
      "execution_count": 117,
      "outputs": [
        {
          "output_type": "execute_result",
          "data": {
            "text/plain": [
              "Text(0.5, 1.0, 'Confusion Matrix - Decision Tree')"
            ]
          },
          "metadata": {},
          "execution_count": 117
        },
        {
          "output_type": "display_data",
          "data": {
            "text/plain": [
              "<Figure size 500x400 with 2 Axes>"
            ],
            "image/png": "[encoded data removed]"
          },
          "metadata": {}
        }
      ]
    },
    {
      "cell_type": "code",
      "source": [],
      "metadata": {
        "id": "7qRZJ_e-440t"
      },
      "execution_count": null,
      "outputs": []
    }
  ]
}